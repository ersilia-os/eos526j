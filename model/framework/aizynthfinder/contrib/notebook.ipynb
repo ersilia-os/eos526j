{
  "nbformat": 4,
  "nbformat_minor": 0,
  "metadata": {
    "colab": {
      "name": "AiZynthFinder.ipynb",
      "private_outputs": true,
      "provenance": [],
      "collapsed_sections": [],
      "toc_visible": true
    },
    "kernelspec": {
      "name": "python3",
      "display_name": "Python 3"
    },
    "accelerator": "GPU"
  },
  "cells": [
    {
      "cell_type": "markdown",
      "metadata": {
        "id": "ObD2YL7nM2_X"
      },
      "source": [
        "# AiZynthFinder\n",
        "\n",
        "Click the ▶ play button at the left of the **Start** text below to run the application. The initial installation process may take a few minutes.\n",
        "\n",
        "1. Enter the target compound [SMILES][1] code.\n",
        "3. Click the **Run Search** button to start the algorithm.\n",
        "4. Once it stops serching, click the **Show Reactions** button.\n",
        "\n",
        "[1]: https://en.wikipedia.org/wiki/Simplified_molecular-input_line-entry_system"
      ]
    },
    {
      "cell_type": "code",
      "metadata": {
        "id": "beDP-CSNM429"
      },
      "source": [
        "#@title Start {display-mode: \"form\"}\n",
        "!curl --location --silent bit.ly/rdkit-colab | tar xz -C /\n",
        "!pip install --quiet graphviz\n",
        "!pip install --quiet https://github.com/MolecularAI/aizynthfinder/archive/v2.2.1.tar.gz\n",
        "!mkdir --parents data && download_public_data data\n",
        "from rdkit.Chem.Draw import IPythonConsole\n",
        "from aizynthfinder.interfaces import AiZynthApp\n",
        "application = AiZynthApp(\"./data/config.yml\")\n"
      ],
      "execution_count": null,
      "outputs": []
    },
    {
      "cell_type": "markdown",
      "metadata": {
        "id": "bwxusoogwlI9"
      },
      "source": [
        "# Bibliography\n",
        "\n",
        "_Genheden S, Thakkar A, Chadimova V, et al (2020) AiZynthFinder: a fast, robust and flexible open-source software for retrosynthetic planning. J. Cheminf. https://doi.org/10.1186/s13321-020-00472-1 ([GitHub](https://github.com/MolecularAI/aizynthfinder) & [Documentation](https://molecularai.github.io/aizynthfinder/html/index.html))_"
      ]
    }
  ]
}
